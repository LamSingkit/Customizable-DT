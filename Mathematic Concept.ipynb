{
 "cells": [
  {
   "cell_type": "code",
   "execution_count": 14,
   "id": "6adbbeed",
   "metadata": {},
   "outputs": [],
   "source": [
    "import numpy as np\n",
    "import pandas as pd\n",
    "\n",
    "# Set random seed for reproducibility\n",
    "np.random.seed(42)\n",
    "\n",
    "# Generate numerical features\n",
    "data = pd.DataFrame({\n",
    "    'X1': np.random.randint(1, 11, 100),        # Integer values 1-10\n",
    "    'X2': np.random.normal(50, 15, 100),        # Normal distribution (μ=50, σ=15)\n",
    "    'X3': np.random.exponential(2, 100),        # Exponential distribution\n",
    "    'X4': np.random.uniform(0, 100, 100),       # Uniform distribution 0-100\n",
    "    'X5': np.abs(np.random.randn(100) * 10),    # Right-skewed positive values\n",
    "    'X6': np.cumsum(np.random.randn(100))       # Time-series like feature\n",
    "})\n",
    "\n",
    "# Create target with clear patterns\n",
    "y = pd.Series(np.where(\n",
    "    ((data['X1'] > 5) & (data['X2'] < 60)) |    # Rule 1\n",
    "    ((data['X3'] > 2.5) & (data['X4'] < 40)) |  # Rule 2\n",
    "    ((data['X5'] > 8) & (data['X6'].diff() > 0)),# Rule 3\n",
    "    1, 0\n",
    "))\n",
    "\n",
    "# Add 15% noise to target\n",
    "noise_mask = np.random.choice([True, False], 100, p=[0.15, 0.85])\n",
    "y[noise_mask] = 1 - y[noise_mask]\n",
    "\n",
    "# Reset index to show 100 entries\n",
    "data = data.reset_index(drop=True)\n",
    "y = y.reset_index(drop=True)"
   ]
  },
  {
   "cell_type": "markdown",
   "id": "81b2caa3",
   "metadata": {},
   "source": [
    "# Split Criterion"
   ]
  },
  {
   "cell_type": "markdown",
   "id": "91c35050",
   "metadata": {},
   "source": [
    "## Gini Impurity - Classification"
   ]
  },
  {
   "cell_type": "markdown",
   "id": "02cda333",
   "metadata": {},
   "source": [
    "Formula: \n",
    "\n",
    "$ \\text{Gini}(S) = 1 - \\sum_{i=1}^{k} p_i^2 $"
   ]
  },
  {
   "cell_type": "code",
   "execution_count": 2,
   "id": "4ee86b1b",
   "metadata": {},
   "outputs": [],
   "source": [
    "def gini_impurity(y):\n",
    "    _, counts = np.unique(y, return_counts=True)\n",
    "    probabilities = counts / counts.sum()\n",
    "    gini = 1 - np.sum(probabilities**2)\n",
    "    return gini"
   ]
  },
  {
   "cell_type": "markdown",
   "id": "28fa488d",
   "metadata": {},
   "source": [
    "## Entropy - Classification"
   ]
  },
  {
   "cell_type": "markdown",
   "id": "bcf703f8",
   "metadata": {},
   "source": [
    "Formula:\n",
    "\n",
    "$\\text{Entropy}(S) = -\\sum_{i=1}^{k} p_i \\log_2(p_i) $"
   ]
  },
  {
   "cell_type": "code",
   "execution_count": 3,
   "id": "d70bed9b",
   "metadata": {},
   "outputs": [],
   "source": [
    "def entropy(y):\n",
    "    _, counts = np.unique(y, return_counts=True)\n",
    "    probabilities = counts / counts.sum()\n",
    "    return -np.sum(probabilities * np.log2(probabilities))"
   ]
  },
  {
   "cell_type": "markdown",
   "id": "22022233",
   "metadata": {},
   "source": [
    "## Combine split function for classification"
   ]
  },
  {
   "cell_type": "code",
   "execution_count": 4,
   "id": "8d2116d8",
   "metadata": {
    "editable": true,
    "slideshow": {
     "slide_type": ""
    },
    "tags": []
   },
   "outputs": [],
   "source": [
    "def best_split(data, y, split_criterion = 'Gini'):\n",
    "    min_criterion = float('inf')\n",
    "    best_feature, best_threshold = None, None\n",
    "\n",
    "    for feature in data.columns:\n",
    "        thresholds = data[feature].unique()\n",
    "        for threshold in thresholds:\n",
    "            left_mask = data[feature] <= threshold\n",
    "            right_mask = data[feature] > threshold\n",
    "            if left_mask.any() and right_mask.any():\n",
    "                y_left, y_right = y[left_mask], y[right_mask]\n",
    "                if split_criterion == 'Gini':\n",
    "                    l_criterion = gini_impurity(y_left)\n",
    "                    r_criterion = gini_impurity(y_right)\n",
    "                elif split_criterion == 'Entropy':\n",
    "                    l_criterion = entropy(y_left)\n",
    "                    r_criterion = entropy(y_right)\n",
    "                n_left, n_right = len(y_left), len(y_right)\n",
    "                weighted_criterion = (n_left / len(y)) * l_criterion + (n_right / len(y)) * r_criterion\n",
    "\n",
    "                if weighted_criterion < min_criterion:\n",
    "                    min_criterion = weighted_criterion\n",
    "                    best_feature = feature\n",
    "                    best_threshold = threshold\n",
    "\n",
    "    return best_feature, best_threshold, min_criterion\n"
   ]
  },
  {
   "cell_type": "code",
   "execution_count": 16,
   "id": "9870bf62",
   "metadata": {},
   "outputs": [
    {
     "name": "stdout",
     "output_type": "stream",
     "text": [
      "Best split is at feature X5 <= 5.39745359324594 with Gini impurity 0.432\n",
      "Best split is at feature X5 <= 5.39745359324594 with Entropy 0.899\n"
     ]
    }
   ],
   "source": [
    "feature, threshold, gini = best_split(data, y, split_criterion= 'Gini')\n",
    "print(f\"Best split is at feature {feature} <= {threshold} with Gini impurity {gini:.3f}\")\n",
    "\n",
    "feature, threshold, gini = best_split(data, y, split_criterion= 'Entropy')\n",
    "print(f\"Best split is at feature {feature} <= {threshold} with Entropy {gini:.3f}\")"
   ]
  },
  {
   "cell_type": "code",
   "execution_count": 12,
   "id": "5625c6c8",
   "metadata": {},
   "outputs": [],
   "source": [
    "class TreeNode:\n",
    "    def __init__(self, feature=None, threshold=None, left=None, right=None, *, leaf_value=None):\n",
    "        self.feature = feature\n",
    "        self.threshold = threshold\n",
    "        self.left = left\n",
    "        self.right = right\n",
    "        self.leaf_value = leaf_value\n",
    "\n",
    "def build_tree(data, y, split_criterion, depth=0, max_depth=None):\n",
    "    if len(set(y)) == 1 or len(y) == 0:\n",
    "        # Return a leaf node if all target values are the same or no data is left\n",
    "        return TreeNode(leaf_value=y.mode()[0] if len(y) != 0 else None)\n",
    "\n",
    "    if max_depth is not None and depth >= max_depth:\n",
    "        # Return a leaf node if the maximum depth is reached\n",
    "        return TreeNode(leaf_value=y.mode()[0])\n",
    "\n",
    "    # Find the best split\n",
    "    feature, threshold, _ = best_split(data, y, split_criterion)\n",
    "\n",
    "    if feature is None:\n",
    "        # Return a leaf node if no valid split is found\n",
    "        return TreeNode(leaf_value=y.mode()[0])\n",
    "\n",
    "    # Split data\n",
    "    left_mask = data[feature] <= threshold\n",
    "    right_mask = data[feature] > threshold\n",
    "    left_data, right_data = data[left_mask], data[right_mask]\n",
    "    left_y, right_y = y[left_mask], y[right_mask]\n",
    "\n",
    "    # Recursively build the tree\n",
    "    left_child = build_tree(left_data, left_y, split_criterion, depth+1, max_depth)\n",
    "    right_child = build_tree(right_data, right_y, split_criterion, depth+1, max_depth)\n",
    "\n",
    "    # Return current node\n",
    "    return TreeNode(feature=feature, threshold=threshold, left=left_child, right=right_child)\n",
    "\n",
    "# Example usage\n",
    "tree = build_tree(data, y, split_criterion = 'Gini', max_depth=None)\n"
   ]
  },
  {
   "cell_type": "code",
   "execution_count": 17,
   "id": "4a282042",
   "metadata": {
    "editable": true,
    "slideshow": {
     "slide_type": ""
    },
    "tags": []
   },
   "outputs": [
    {
     "name": "stdout",
     "output_type": "stream",
     "text": [
      "X5 <= 5.39745359324594\n",
      "    ├── X2 <= 71.01982347040436\n",
      "    │   ├── X5 <= 4.58441296561979\n",
      "    │   │   ├── X4 <= 27.15429158197419\n",
      "    │   │   │   ├── X2 <= 30.33013661373336\n",
      "    │   │   │   │   ├── Predict 0\n",
      "    │   │   │   │   └── Predict 1\n",
      "    │   │   │   └── X4 <= 54.79718832480873\n",
      "    │   │   │       ├── Predict 0\n",
      "    │   │   │       └── X6 <= 4.35178960859486\n",
      "    │   │   │           ├── Predict 0\n",
      "    │   │   │           └── X3 <= 0.29380380498430403\n",
      "    │   │   │               ├── Predict 0\n",
      "    │   │   │               └── X2 <= 59.082246962715125\n",
      "    │   │   │                   ├── Predict 1\n",
      "    │   │   │                   └── X1 <= 5\n",
      "    │   │   │                       ├── Predict 1\n",
      "    │   │   │                       └── Predict 0\n",
      "    │   │   └── Predict 0\n",
      "    │   └── Predict 1\n",
      "    └── X4 <= 12.76897294224656\n",
      "        ├── X5 <= 13.723777965472465\n",
      "        │   ├── Predict 0\n",
      "        │   └── X6 <= -2.2712967985001415\n",
      "        │       ├── Predict 0\n",
      "        │       └── Predict 1\n",
      "        └── X1 <= 3\n",
      "            ├── X2 <= 43.37350965160981\n",
      "            │   ├── X6 <= 1.9177766025952805\n",
      "            │   │   ├── Predict 0\n",
      "            │   │   └── Predict 1\n",
      "            │   └── X2 <= 57.686355985574046\n",
      "            │       ├── Predict 0\n",
      "            │       └── Predict 1\n",
      "            └── X6 <= -1.9417300456616493\n",
      "                ├── Predict 0\n",
      "                └── X4 <= 80.69129770507794\n",
      "                    ├── X2 <= 54.90267835955021\n",
      "                    │   ├── Predict 1\n",
      "                    │   └── X2 <= 56.472341948945626\n",
      "                    │       ├── Predict 0\n",
      "                    │       └── Predict 1\n",
      "                    └── X3 <= 3.880393091927142\n",
      "                        ├── X4 <= 81.1204176736003\n",
      "                        │   ├── Predict 0\n",
      "                        │   └── Predict 1\n",
      "                        └── Predict 0\n"
     ]
    }
   ],
   "source": [
    "def display_tree(node, prefix=\"\", is_left=None):\n",
    "    if node.leaf_value is not None:\n",
    "        branch = \"\"\n",
    "        if is_left is not None:\n",
    "            branch = \"├── \" if is_left else \"└── \"\n",
    "        print(f\"{prefix}{branch}Predict {node.leaf_value}\")\n",
    "        return\n",
    "\n",
    "    if is_left is None:\n",
    "        # Root node\n",
    "        print(f\"{node.feature} <= {node.threshold}\")\n",
    "    else:\n",
    "        branch = \"├── \" if is_left else \"└── \"\n",
    "        print(f\"{prefix}{branch}{node.feature} <= {node.threshold}\")\n",
    "\n",
    "    # Calculate new prefix for children\n",
    "    if is_left is not None:\n",
    "        new_prefix = prefix + (\"│   \" if is_left else \"    \")\n",
    "    else:\n",
    "        new_prefix = prefix + \"    \"\n",
    "\n",
    "    if node.left:\n",
    "        display_tree(node.left, new_prefix, True)\n",
    "    if node.right:\n",
    "        display_tree(node.right, new_prefix, False)\n",
    "        \n",
    "# Build the tree\n",
    "tree = build_tree(data, y, split_criterion='Gini', max_depth=None)\n",
    "\n",
    "# Display the tree\n",
    "display_tree(tree)\n"
   ]
  },
  {
   "cell_type": "code",
   "execution_count": 9,
   "id": "fdd3cd20",
   "metadata": {},
   "outputs": [],
   "source": [
    "    def __init__(self, feature=None, threshold=None, left=None, right=None, *, leaf_value=None):\n",
    "        self.feature = feature\n",
    "        self.threshold = threshold\n",
    "        self.left = left\n",
    "        self.right = right\n",
    "        self.leaf_value = leaf_value"
   ]
  },
  {
   "cell_type": "code",
   "execution_count": 10,
   "id": "3da8f6ca",
   "metadata": {},
   "outputs": [
    {
     "name": "stdout",
     "output_type": "stream",
     "text": [
      "X1\n",
      "2\n",
      "None\n"
     ]
    }
   ],
   "source": [
    "print(tree.feature)\n",
    "print(tree.threshold)\n",
    "print(tree.leaf_value)"
   ]
  },
  {
   "cell_type": "markdown",
   "id": "a7263fac",
   "metadata": {
    "jp-MarkdownHeadingCollapsed": true
   },
   "source": [
    "## Variance Reduction - Regression"
   ]
  },
  {
   "cell_type": "markdown",
   "id": "6205802f",
   "metadata": {},
   "source": [
    "Formula:\n",
    "\n",
    "$ \\text{Variance}(S) = \\frac{1}{|S|} \\sum_{i \\in S} (y_i - \\overline{y}_S)^2 $\n",
    "\n",
    "$ \\text{Variance Reduction} = \\text{Var}(S) - \\left(\\frac{n_{\\text{left}}}{n} \\times \\text{Var}(S_{\\text{left}}) + \\frac{n_{\\text{right}}}{n} \\times \\text{Var}(S_{\\text{right}})\\right) $"
   ]
  },
  {
   "cell_type": "code",
   "execution_count": 9,
   "id": "cabfbc18",
   "metadata": {},
   "outputs": [],
   "source": [
    "# Feature\n",
    "X = np.array([1, 2, 3, 4, 5, 6])\n",
    "# Regression target\n",
    "y = np.array([1, 3, 2, 5, 7, 6])"
   ]
  },
  {
   "cell_type": "code",
   "execution_count": 10,
   "id": "c8eb0aad",
   "metadata": {},
   "outputs": [],
   "source": [
    "def variance(y):\n",
    "    return np.var(y)\n",
    "\n",
    "def best_split_regression(X, y):\n",
    "    best_var_reduction = -np.inf  # We want to maximize variance reduction\n",
    "    best_idx, best_thr = None, None\n",
    "    parent_variance = variance(y)\n",
    "\n",
    "    for idx in range(len(X)):\n",
    "        thr = X[idx]\n",
    "        left_mask = X < thr\n",
    "        right_mask = X >= thr\n",
    "        if len(y[left_mask]) == 0 or len(y[right_mask]) == 0:\n",
    "            continue\n",
    "        left_var = variance(y[left_mask])\n",
    "        right_var = variance(y[right_mask])\n",
    "        n_left, n_right = len(y[left_mask]), len(y[right_mask])\n",
    "        n = len(y)\n",
    "        # Weighted average variance\n",
    "        weighted_var = (n_left / n) * left_var + (n_right / n) * right_var\n",
    "        var_reduction = parent_variance - weighted_var\n",
    "\n",
    "        if var_reduction > best_var_reduction:\n",
    "            best_var_reduction = var_reduction\n",
    "            best_idx, best_thr = idx, thr\n",
    "\n",
    "    return best_idx, best_thr, best_var_reduction\n"
   ]
  },
  {
   "cell_type": "code",
   "execution_count": null,
   "id": "62ca6825",
   "metadata": {},
   "outputs": [],
   "source": [
    "index, threshold, var_reduction = best_split_regression(X, y)\n",
    "print(\"Best split at index:\", index, \"with threshold:\", threshold, \"and Variance Reduction:\", var_reduction)"
   ]
  },
  {
   "cell_type": "markdown",
   "id": "71485abd",
   "metadata": {},
   "source": [
    "## Build Tree"
   ]
  }
 ],
 "metadata": {
  "kernelspec": {
   "display_name": "Python 3 (ipykernel)",
   "language": "python",
   "name": "python3"
  },
  "language_info": {
   "codemirror_mode": {
    "name": "ipython",
    "version": 3
   },
   "file_extension": ".py",
   "mimetype": "text/x-python",
   "name": "python",
   "nbconvert_exporter": "python",
   "pygments_lexer": "ipython3",
   "version": "3.9.7"
  }
 },
 "nbformat": 4,
 "nbformat_minor": 5
}
